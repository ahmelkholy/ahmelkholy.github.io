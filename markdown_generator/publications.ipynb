{
 "cells": [
  {
   "cell_type": "markdown",
   "metadata": {
    "deletable": true,
    "editable": true
   },
   "source": [
    "# Publications markdown generator for academicpages\n",
    "\n",
    "Takes a TSV of publications with metadata and converts them for use with [academicpages.github.io](academicpages.github.io). This is an interactive Jupyter notebook ([see more info here](http://jupyter-notebook-beginner-guide.readthedocs.io/en/latest/what_is_jupyter.html)). The core python code is also in `publications.py`. Run either from the `markdown_generator` folder after replacing `publications.tsv` with one containing your data.\n",
    "\n",
    "TODO: Make this work with BibTex and other databases of citations, rather than Stuart's non-standard TSV format and citation style.\n"
   ]
  },
  {
   "cell_type": "markdown",
   "metadata": {},
   "source": [
    "## Data format\n",
    "\n",
    "The TSV needs to have the following columns: pub_date, title, venue, excerpt, citation, site_url, and paper_url, with a header at the top. \n",
    "\n",
    "- `excerpt` and `paper_url` can be blank, but the others must have values. \n",
    "- `pub_date` must be formatted as YYYY-MM-DD.\n",
    "- `url_slug` will be the descriptive part of the .md file and the permalink URL for the page about the paper. The .md file will be `YYYY-MM-DD-[url_slug].md` and the permalink will be `https://[yourdomain]/publications/YYYY-MM-DD-[url_slug]`\n",
    "\n",
    "This is how the raw file looks (it doesn't look pretty, use a spreadsheet or other program to edit and create)."
   ]
  },
  {
   "cell_type": "code",
   "execution_count": 1,
   "metadata": {
    "collapsed": false
   },
   "outputs": [
    {
     "name": "stdout",
     "output_type": "stream",
     "text": [
      "pub_date\ttitle\tvenue\texcerpt\tcitation\turl_slug\tpaper_url\n",
      "\n",
      "2021\tHosting Capacity Enhancement Through IoT-based Active Power Curtailment of PV Generation\t2021 22nd International Middle East Power Systems Conference (MEPCON)\tDue to the high cost of installing large thermal power plants and the resulting emissions from such plants, consumers were encouraged to install rooftop photovoltaic systems. Yet, challenges of integrating solar power into the distribution networks are restraining the amount of allowed generation from rooftop PV systems. Grid operators (GO) started to even limit rooftop PV systems installation capacity toa maximum of their respective load peak value. This paper presents an IoT-based hosting capacity enhancement techniqueby active power curtailment of the power generated from the PV systems at prosumers. Where the IoT establishes a communication channel between the Grid Operator (GO) and all prosumers using the Internet-of-Asset (IoA) architecture. Measurement signals of the Low Voltage (LV) network, solar irradiation, and temperature are necessary for the control technique to generate the reference control voltage for the solar inverter to produce the curtailed PV generation. Theeffect of load and irradiation variation is studied in the presence of the MPPT control, and the GO control, this term isused to describe GO's signal to curtail PV generation. The system has been modeled and simulated via the MATLAB/Simulink® software package. The results validate the effectiveness of this enhancement technique in keeping the overvoltage levels below limits.\t10.1109/MEPCON50283.2021.9686240\thttps://ieeexplore.ieee.org/document/9686240/\thttps://ieeexplore.ieee.org/document/9686240/\n",
      "\n",
      "2022\tGrid Synchronization Enhancement of Distributed Generators Using an Adaptive Phase-Locked Loop Tuning System\tElectronics\tThis paper proposes an effective algorithm; this algorithm is updating the phase-locked loop (PLL) gains according to the value of the short circuit ratio that will decrease the weak grid effect in the PLL controllers to reduce problems related to renewable energy sources and connect to the point of common coupling (PCC). Based on system parameters estimation, the proposed algorithm enhances the system stability for the distribution networks. The standard IEEE 33-bus test system is used to investigate the proposed algorithm’s effectiveness and superiority. An extensive mathematical effort is exerted to get the system’s small-signal stability (SSS) model. The tuning of the phase-locked loop and the current control loop are choosing to dynamically change according to the system variables to ensure the same system stability margin, whatever the change in the loading conditions. The MATLAB/Simulink model is used to validate the algorithm and simulate the test system.\t10.3390/electronics11050702\t\t\n",
      "\n",
      "2017\tA proposed load shedding mechanism for enhancing intentional-islanding dynamics of distribution systems\t2017 Nineteenth International Middle East Power Systems Conference (MEPCON)\t\t10.1109/MEPCON.2017.8301282\thttp://ieeexplore.ieee.org/document/8301282/\thttp://ieeexplore.ieee.org/document/8301282/\n",
      "\n",
      "2018\tAn Advanced Load Shedding Algorithm to Enhance Intentional-Islanding Dynamics\t2018 Twentieth International Middle East Power Systems Conference (MEPCON)\t\t10.1109/MEPCON.2018.8635139\thttps://ieeexplore.ieee.org/document/8635139/\thttps://ieeexplore.ieee.org/document/8635139/\n",
      "\n",
      "2021\tPerformance Enhancement of Wave Energy Converters Integrated with DC Grids Using Energy Storage Systems\t2021 22nd International Middle East Power Systems Conference (MEPCON)\t\t10.1109/MEPCON50283.2021.9686294\thttps://ieeexplore.ieee.org/document/9686294/\thttps://ieeexplore.ieee.org/document/9686294/\n",
      "\n",
      "2020\tGeneral Framework for Intentional Islanding to Enhance Distribution System Performance\tElectric Power Components and Systems\t\t10.1080/15325008.2020.1856227\thttps://www.tandfonline.com/doi/full/10.1080/15325008.2020.1856227\thttps://www.tandfonline.com/doi/full/10.1080/15325008.2020.1856227\n",
      "\n",
      "2020\tISLANDING SCENARIOS FOR HIGH RELIABLE OPERATION OF DISTRIBUTION NETWORKS\t\tIslanding is considered important problem that faces distributed generation. This problem occurs when the protection system takes a correct action to disconnect the fault as a result of that new isolated system is formed. This study introduces a methodology for performing intentional islanding with maximum possible benefits for distribution systems. The methodology is based on an advanced load shedding algorithm to achieve load generation balance and apply a control strategy to ensure a smooth transition from normal mode to island mode with high load power quality. Generally, the load shedding algorithm is applied to improve the reliability by serving maximum number of customers. Investigation of the dynamic behavior of the distribution network during transition due to intentional islanding is a main concern in this thesis. When operating in the island mode, the local supervisory control system can modify the generator frequency controller and voltage controller to guarantee high power quality for the new isolated system. In addition, it is suggested to assess the small signal stability of new islands to evaluate their performance and give priority among different alternatives. Small signal stability study is introduced for each island to check the stability for the new islands. IEEE 33bus system is taken as a case study to ensure the effectiveness of the introduced methodology. The analysis is performed for a case study with optimal DG locations and sizes. NEPLAN software is used for dynamics and small signal stability investigations.\t10.5281/ZENODO.5816968\thttps://zenodo.org/record/5816968\thttps://zenodo.org/record/5816968\n",
      "\n"
     ]
    }
   ],
   "source": [
    "!cat publications.tsv"
   ]
  },
  {
   "cell_type": "markdown",
   "metadata": {},
   "source": [
    "## Import pandas\n",
    "\n",
    "We are using the very handy pandas library for dataframes."
   ]
  },
  {
   "cell_type": "code",
   "execution_count": 2,
   "metadata": {
    "collapsed": true,
    "deletable": true,
    "editable": true
   },
   "outputs": [],
   "source": [
    "import pandas as pd"
   ]
  },
  {
   "cell_type": "markdown",
   "metadata": {},
   "source": [
    "## Import TSV\n",
    "\n",
    "Pandas makes this easy with the read_csv function. We are using a TSV, so we specify the separator as a tab, or `\\t`.\n",
    "\n",
    "I found it important to put this data in a tab-separated values format, because there are a lot of commas in this kind of data and comma-separated values can get messed up. However, you can modify the import statement, as pandas also has read_excel(), read_json(), and others."
   ]
  },
  {
   "cell_type": "code",
   "execution_count": 3,
   "metadata": {
    "collapsed": false,
    "deletable": true,
    "editable": true
   },
   "outputs": [
    {
     "data": {
      "text/html": [
       "<div>\n",
       "<style scoped>\n",
       "    .dataframe tbody tr th:only-of-type {\n",
       "        vertical-align: middle;\n",
       "    }\n",
       "\n",
       "    .dataframe tbody tr th {\n",
       "        vertical-align: top;\n",
       "    }\n",
       "\n",
       "    .dataframe thead th {\n",
       "        text-align: right;\n",
       "    }\n",
       "</style>\n",
       "<table border=\"1\" class=\"dataframe\">\n",
       "  <thead>\n",
       "    <tr style=\"text-align: right;\">\n",
       "      <th></th>\n",
       "      <th>pub_date</th>\n",
       "      <th>title</th>\n",
       "      <th>venue</th>\n",
       "      <th>excerpt</th>\n",
       "      <th>citation</th>\n",
       "      <th>url_slug</th>\n",
       "      <th>paper_url</th>\n",
       "    </tr>\n",
       "  </thead>\n",
       "  <tbody>\n",
       "    <tr>\n",
       "      <th>0</th>\n",
       "      <td>2021</td>\n",
       "      <td>Hosting Capacity Enhancement Through IoT-based...</td>\n",
       "      <td>2021 22nd International Middle East Power Syst...</td>\n",
       "      <td>Due to the high cost of installing large therm...</td>\n",
       "      <td>10.1109/MEPCON50283.2021.9686240</td>\n",
       "      <td>https://ieeexplore.ieee.org/document/9686240/</td>\n",
       "      <td>https://ieeexplore.ieee.org/document/9686240/</td>\n",
       "    </tr>\n",
       "    <tr>\n",
       "      <th>1</th>\n",
       "      <td>2022</td>\n",
       "      <td>Grid Synchronization Enhancement of Distribute...</td>\n",
       "      <td>Electronics</td>\n",
       "      <td>This paper proposes an effective algorithm; th...</td>\n",
       "      <td>10.3390/electronics11050702</td>\n",
       "      <td>NaN</td>\n",
       "      <td>NaN</td>\n",
       "    </tr>\n",
       "    <tr>\n",
       "      <th>2</th>\n",
       "      <td>2017</td>\n",
       "      <td>A proposed load shedding mechanism for enhanci...</td>\n",
       "      <td>2017 Nineteenth International Middle East Powe...</td>\n",
       "      <td>NaN</td>\n",
       "      <td>10.1109/MEPCON.2017.8301282</td>\n",
       "      <td>http://ieeexplore.ieee.org/document/8301282/</td>\n",
       "      <td>http://ieeexplore.ieee.org/document/8301282/</td>\n",
       "    </tr>\n",
       "    <tr>\n",
       "      <th>3</th>\n",
       "      <td>2018</td>\n",
       "      <td>An Advanced Load Shedding Algorithm to Enhance...</td>\n",
       "      <td>2018 Twentieth International Middle East Power...</td>\n",
       "      <td>NaN</td>\n",
       "      <td>10.1109/MEPCON.2018.8635139</td>\n",
       "      <td>https://ieeexplore.ieee.org/document/8635139/</td>\n",
       "      <td>https://ieeexplore.ieee.org/document/8635139/</td>\n",
       "    </tr>\n",
       "    <tr>\n",
       "      <th>4</th>\n",
       "      <td>2021</td>\n",
       "      <td>Performance Enhancement of Wave Energy Convert...</td>\n",
       "      <td>2021 22nd International Middle East Power Syst...</td>\n",
       "      <td>NaN</td>\n",
       "      <td>10.1109/MEPCON50283.2021.9686294</td>\n",
       "      <td>https://ieeexplore.ieee.org/document/9686294/</td>\n",
       "      <td>https://ieeexplore.ieee.org/document/9686294/</td>\n",
       "    </tr>\n",
       "    <tr>\n",
       "      <th>5</th>\n",
       "      <td>2020</td>\n",
       "      <td>General Framework for Intentional Islanding to...</td>\n",
       "      <td>Electric Power Components and Systems</td>\n",
       "      <td>NaN</td>\n",
       "      <td>10.1080/15325008.2020.1856227</td>\n",
       "      <td>https://www.tandfonline.com/doi/full/10.1080/1...</td>\n",
       "      <td>https://www.tandfonline.com/doi/full/10.1080/1...</td>\n",
       "    </tr>\n",
       "    <tr>\n",
       "      <th>6</th>\n",
       "      <td>2020</td>\n",
       "      <td>ISLANDING SCENARIOS FOR HIGH RELIABLE OPERATIO...</td>\n",
       "      <td>NaN</td>\n",
       "      <td>Islanding is considered important problem that...</td>\n",
       "      <td>10.5281/ZENODO.5816968</td>\n",
       "      <td>https://zenodo.org/record/5816968</td>\n",
       "      <td>https://zenodo.org/record/5816968</td>\n",
       "    </tr>\n",
       "  </tbody>\n",
       "</table>\n",
       "</div>"
      ],
      "text/plain": [
       "   pub_date                                              title  \\\n",
       "0      2021  Hosting Capacity Enhancement Through IoT-based...   \n",
       "1      2022  Grid Synchronization Enhancement of Distribute...   \n",
       "2      2017  A proposed load shedding mechanism for enhanci...   \n",
       "3      2018  An Advanced Load Shedding Algorithm to Enhance...   \n",
       "4      2021  Performance Enhancement of Wave Energy Convert...   \n",
       "5      2020  General Framework for Intentional Islanding to...   \n",
       "6      2020  ISLANDING SCENARIOS FOR HIGH RELIABLE OPERATIO...   \n",
       "\n",
       "                                               venue  \\\n",
       "0  2021 22nd International Middle East Power Syst...   \n",
       "1                                        Electronics   \n",
       "2  2017 Nineteenth International Middle East Powe...   \n",
       "3  2018 Twentieth International Middle East Power...   \n",
       "4  2021 22nd International Middle East Power Syst...   \n",
       "5              Electric Power Components and Systems   \n",
       "6                                                NaN   \n",
       "\n",
       "                                             excerpt  \\\n",
       "0  Due to the high cost of installing large therm...   \n",
       "1  This paper proposes an effective algorithm; th...   \n",
       "2                                                NaN   \n",
       "3                                                NaN   \n",
       "4                                                NaN   \n",
       "5                                                NaN   \n",
       "6  Islanding is considered important problem that...   \n",
       "\n",
       "                           citation  \\\n",
       "0  10.1109/MEPCON50283.2021.9686240   \n",
       "1       10.3390/electronics11050702   \n",
       "2       10.1109/MEPCON.2017.8301282   \n",
       "3       10.1109/MEPCON.2018.8635139   \n",
       "4  10.1109/MEPCON50283.2021.9686294   \n",
       "5     10.1080/15325008.2020.1856227   \n",
       "6            10.5281/ZENODO.5816968   \n",
       "\n",
       "                                            url_slug  \\\n",
       "0      https://ieeexplore.ieee.org/document/9686240/   \n",
       "1                                                NaN   \n",
       "2       http://ieeexplore.ieee.org/document/8301282/   \n",
       "3      https://ieeexplore.ieee.org/document/8635139/   \n",
       "4      https://ieeexplore.ieee.org/document/9686294/   \n",
       "5  https://www.tandfonline.com/doi/full/10.1080/1...   \n",
       "6                  https://zenodo.org/record/5816968   \n",
       "\n",
       "                                           paper_url  \n",
       "0      https://ieeexplore.ieee.org/document/9686240/  \n",
       "1                                                NaN  \n",
       "2       http://ieeexplore.ieee.org/document/8301282/  \n",
       "3      https://ieeexplore.ieee.org/document/8635139/  \n",
       "4      https://ieeexplore.ieee.org/document/9686294/  \n",
       "5  https://www.tandfonline.com/doi/full/10.1080/1...  \n",
       "6                  https://zenodo.org/record/5816968  "
      ]
     },
     "execution_count": 3,
     "metadata": {},
     "output_type": "execute_result"
    }
   ],
   "source": [
    "publications = pd.read_csv(\"publications.tsv\", sep=\"\\t\", header=0)\n",
    "publications\n"
   ]
  },
  {
   "cell_type": "markdown",
   "metadata": {},
   "source": [
    "## Escape special characters\n",
    "\n",
    "YAML is very picky about how it takes a valid string, so we are replacing single and double quotes (and ampersands) with their HTML encoded equivilents. This makes them look not so readable in raw format, but they are parsed and rendered nicely."
   ]
  },
  {
   "cell_type": "code",
   "execution_count": 4,
   "metadata": {
    "collapsed": true,
    "deletable": true,
    "editable": true
   },
   "outputs": [],
   "source": [
    "html_escape_table = {\n",
    "    \"&\": \"&amp;\",\n",
    "    '\"': \"&quot;\",\n",
    "    \"'\": \"&apos;\"\n",
    "    }\n",
    "\n",
    "def html_escape(text):\n",
    "    \"\"\"Produce entities within text.\"\"\"\n",
    "    return \"\".join(html_escape_table.get(c,c) for c in text)"
   ]
  },
  {
   "cell_type": "markdown",
   "metadata": {},
   "source": [
    "## Creating the markdown files\n",
    "\n",
    "This is where the heavy lifting is done. This loops through all the rows in the TSV dataframe, then starts to concatentate a big string (```md```) that contains the markdown for each type. It does the YAML metadata first, then does the description for the individual page."
   ]
  },
  {
   "cell_type": "code",
   "execution_count": 7,
   "metadata": {
    "collapsed": false,
    "deletable": true,
    "editable": true
   },
   "outputs": [
    {
     "ename": "TypeError",
     "evalue": "'int' object is not subscriptable",
     "output_type": "error",
     "traceback": [
      "\u001b[1;31m---------------------------------------------------------------------------\u001b[0m",
      "\u001b[1;31mTypeError\u001b[0m                                 Traceback (most recent call last)",
      "\u001b[1;32m~\\AppData\\Local\\Temp\\ipykernel_4644\\3205768425.py\u001b[0m in \u001b[0;36m<module>\u001b[1;34m\u001b[0m\n\u001b[0;32m      4\u001b[0m     \u001b[0mmd_filename\u001b[0m \u001b[1;33m=\u001b[0m \u001b[0mstr\u001b[0m\u001b[1;33m(\u001b[0m\u001b[0mitem\u001b[0m\u001b[1;33m.\u001b[0m\u001b[0mpub_date\u001b[0m\u001b[1;33m)\u001b[0m \u001b[1;33m+\u001b[0m \u001b[1;34m\"-\"\u001b[0m \u001b[1;33m+\u001b[0m \u001b[0mitem\u001b[0m\u001b[1;33m.\u001b[0m\u001b[0murl_slug\u001b[0m \u001b[1;33m+\u001b[0m \u001b[1;34m\".md\"\u001b[0m\u001b[1;33m\u001b[0m\u001b[1;33m\u001b[0m\u001b[0m\n\u001b[0;32m      5\u001b[0m     \u001b[0mhtml_filename\u001b[0m \u001b[1;33m=\u001b[0m \u001b[0mstr\u001b[0m\u001b[1;33m(\u001b[0m\u001b[0mitem\u001b[0m\u001b[1;33m.\u001b[0m\u001b[0mpub_date\u001b[0m\u001b[1;33m)\u001b[0m \u001b[1;33m+\u001b[0m \u001b[1;34m\"-\"\u001b[0m \u001b[1;33m+\u001b[0m \u001b[0mitem\u001b[0m\u001b[1;33m.\u001b[0m\u001b[0murl_slug\u001b[0m\u001b[1;33m\u001b[0m\u001b[1;33m\u001b[0m\u001b[0m\n\u001b[1;32m----> 6\u001b[1;33m     \u001b[0myear\u001b[0m \u001b[1;33m=\u001b[0m \u001b[0mitem\u001b[0m\u001b[1;33m.\u001b[0m\u001b[0mpub_date\u001b[0m\u001b[1;33m[\u001b[0m\u001b[1;33m:\u001b[0m\u001b[1;36m4\u001b[0m\u001b[1;33m]\u001b[0m\u001b[1;33m\u001b[0m\u001b[1;33m\u001b[0m\u001b[0m\n\u001b[0m\u001b[0;32m      7\u001b[0m \u001b[1;33m\u001b[0m\u001b[0m\n\u001b[0;32m      8\u001b[0m     \u001b[1;31m## YAML variables\u001b[0m\u001b[1;33m\u001b[0m\u001b[1;33m\u001b[0m\u001b[0m\n",
      "\u001b[1;31mTypeError\u001b[0m: 'int' object is not subscriptable"
     ]
    }
   ],
   "source": [
    "import os\n",
    "for row, item in publications.iterrows():\n",
    "    \n",
    "    md_filename = str(item.pub_date) + \"-\" + item.url_slug + \".md\"\n",
    "    html_filename = str(item.pub_date) + \"-\" + item.url_slug\n",
    "    year = item.pub_date[:4]\n",
    "    \n",
    "    ## YAML variables\n",
    "    \n",
    "    md = \"---\\ntitle: \\\"\"   + item.title + '\"\\n'\n",
    "    \n",
    "    md += \"\"\"collection: publications\"\"\"\n",
    "    \n",
    "    md += \"\"\"\\npermalink: /publication/\"\"\" + html_filename\n",
    "    \n",
    "    if len(str(item.excerpt)) > 5:\n",
    "        md += \"\\nexcerpt: '\" + html_escape(item.excerpt) + \"'\"\n",
    "    \n",
    "    md += \"\\ndate: \" + str(item.pub_date) \n",
    "    \n",
    "    md += \"\\nvenue: '\" + html_escape(item.venue) + \"'\"\n",
    "    \n",
    "    if len(str(item.paper_url)) > 5:\n",
    "        md += \"\\npaperurl: '\" + item.paper_url + \"'\"\n",
    "    \n",
    "    md += \"\\ncitation: '\" + html_escape(item.citation) + \"'\"\n",
    "    \n",
    "    md += \"\\n---\"\n",
    "    \n",
    "    ## Markdown description for individual page\n",
    "        \n",
    "    if len(str(item.excerpt)) > 5:\n",
    "        md += \"\\n\" + html_escape(item.excerpt) + \"\\n\"\n",
    "    \n",
    "    if len(str(item.paper_url)) > 5:\n",
    "        md += \"\\n[Download paper here](\" + item.paper_url + \")\\n\" \n",
    "        \n",
    "    md += \"\\nRecommended citation: \" + item.citation\n",
    "    \n",
    "    md_filename = os.path.basename(md_filename)\n",
    "       \n",
    "    with open(\"../_publications/\" + md_filename, 'w') as f:\n",
    "        f.write(md)"
   ]
  },
  {
   "cell_type": "markdown",
   "metadata": {},
   "source": [
    "These files are in the publications directory, one directory below where we're working from."
   ]
  },
  {
   "cell_type": "code",
   "execution_count": null,
   "metadata": {
    "collapsed": false,
    "deletable": true,
    "editable": true
   },
   "outputs": [
    {
     "name": "stdout",
     "output_type": "stream",
     "text": [
      "2009-10-01-paper-title-number-1.md  2015-10-01-paper-title-number-3.md\r\n",
      "2010-10-01-paper-title-number-2.md\r\n"
     ]
    }
   ],
   "source": [
    "!ls ../_publications/"
   ]
  },
  {
   "cell_type": "code",
   "execution_count": null,
   "metadata": {
    "collapsed": false,
    "deletable": true,
    "editable": true
   },
   "outputs": [
    {
     "name": "stdout",
     "output_type": "stream",
     "text": [
      "---\r\n",
      "title: \"Paper Title Number 1\"\r\n",
      "collection: publications\r\n",
      "permalink: /publication/2009-10-01-paper-title-number-1\r\n",
      "excerpt: 'This paper is about the number 1. The number 2 is left for future work.'\r\n",
      "date: 2009-10-01\r\n",
      "venue: 'Journal 1'\r\n",
      "paperurl: 'http://academicpages.github.io/files/paper1.pdf'\r\n",
      "citation: 'Your Name, You. (2009). &quot;Paper Title Number 1.&quot; <i>Journal 1</i>. 1(1).'\r\n",
      "---\r\n",
      "This paper is about the number 1. The number 2 is left for future work.\r\n",
      "\r\n",
      "[Download paper here](http://academicpages.github.io/files/paper1.pdf)\r\n",
      "\r\n",
      "Recommended citation: Your Name, You. (2009). \"Paper Title Number 1.\" <i>Journal 1</i>. 1(1)."
     ]
    }
   ],
   "source": [
    "!cat ../_publications/2009-10-01-paper-title-number-1.md"
   ]
  },
  {
   "cell_type": "code",
   "execution_count": null,
   "metadata": {
    "collapsed": true,
    "deletable": true,
    "editable": true
   },
   "outputs": [],
   "source": []
  }
 ],
 "metadata": {
  "kernelspec": {
   "display_name": "Python 3",
   "language": "python",
   "name": "python3"
  },
  "language_info": {
   "codemirror_mode": {
    "name": "ipython",
    "version": 3
   },
   "file_extension": ".py",
   "mimetype": "text/x-python",
   "name": "python",
   "nbconvert_exporter": "python",
   "pygments_lexer": "ipython3",
   "version": "3.9.13"
  }
 },
 "nbformat": 4,
 "nbformat_minor": 0
}
